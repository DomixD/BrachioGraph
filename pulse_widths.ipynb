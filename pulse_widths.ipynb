{
 "cells": [
  {
   "cell_type": "code",
   "execution_count": 23,
   "metadata": {},
   "outputs": [
    {
     "data": {
      "text/plain": [
       "<matplotlib.collections.PathCollection at 0x2e17f9419c8>"
      ]
     },
     "execution_count": 23,
     "metadata": {},
     "output_type": "execute_result"
    },
    {
     "data": {
      "image/png": "[encoded data removed]",
      "text/plain": [
       "<Figure size 640x480 with 1 Axes>"
      ]
     },
     "metadata": {},
     "output_type": "display_data"
    }
   ],
   "source": [
    "%matplotlib inline\n",
    "import matplotlib.pyplot as plt\n",
    "import numpy\n",
    "\n",
    "x = numpy.linspace(-180, 36)\n",
    "\n",
    "servo_angle_pws = [\n",
    "    [-162, 2490000],\n",
    "    [-144, 2270000],\n",
    "    [-126, 2070000],\n",
    "    [-108, 1880000],\n",
    "    [ -90, 1680000],\n",
    "    [ -72, 1540000],\n",
    "    [ -54, 1360000],\n",
    "    [ -36, 1190000],\n",
    "    [ -18, 1020000],\n",
    "    [   0,  830000],\n",
    "    [  18,  610000],\n",
    "]\n",
    "\n",
    "# for i in range(len(servo_1_array))[1:]:\n",
    "#     print(\"Using %s terms\" %i)\n",
    "               \n",
    "servo_array = numpy.array(servo_angle_pws)\n",
    "angles_to_pw = numpy.poly1d(\n",
    "    numpy.polyfit(\n",
    "        servo_array[:,0],\n",
    "        servo_array[:,1],\n",
    "        3  # try different values to see how more/fewer terms in the polynomial function affect results\n",
    "    )\n",
    ")\n",
    "\n",
    "plt.plot(x, angles_to_pw(x))\n",
    "x, y = servo_array.T\n",
    "plt.scatter(x, y)"
   ]
  },
  {
   "cell_type": "code",
   "execution_count": null,
   "metadata": {},
   "outputs": [],
   "source": [
    "len(servo_1_array)"
   ]
  },
  {
   "cell_type": "code",
   "execution_count": 4,
   "metadata": {},
   "outputs": [],
   "source": [
    "def interval_mapping(x, in_min, in_max, out_min, out_max):\n",
    "    \"\"\"\n",
    "    Maps a value from one range to another.\n",
    "    This function is useful for converting servo angle to pulse width.\n",
    "    \"\"\"\n",
    "    return (x - in_min) * (out_max - out_min) / (in_max - in_min) + out_min"
   ]
  },
  {
   "cell_type": "code",
   "execution_count": 22,
   "metadata": {},
   "outputs": [
    {
     "data": {
      "text/plain": [
       "2.1"
      ]
     },
     "execution_count": 22,
     "metadata": {},
     "output_type": "execute_result"
    }
   ],
   "source": [
    "interval_mapping( 144,0, 180, 0.5, 2.5)\n",
    "## duty_ns entspricht hier den Pulsewidth"
   ]
  },
  {
   "cell_type": "code",
   "execution_count": 1,
   "metadata": {},
   "outputs": [],
   "source": [
    "def servo_write(angle):\n",
    "    pulse_width = interval_mapping(angle, 0, 180, 0.5, 2.5)\n",
    "    duty = int(interval_mapping(pulse_width, 0, 20, 0, 65535))\n",
    "    return duty\n",
    "   # pin.duty_u16(duty)"
   ]
  },
  {
   "cell_type": "code",
   "execution_count": 16,
   "metadata": {},
   "outputs": [
    {
     "data": {
      "text/plain": [
       "7536"
      ]
     },
     "execution_count": 16,
     "metadata": {},
     "output_type": "execute_result"
    }
   ],
   "source": [
    "servo_write(162)"
   ]
  },
  {
   "cell_type": "code",
   "execution_count": null,
   "metadata": {},
   "outputs": [],
   "source": [
    "from brachiograph import BrachioGraph\n",
    "\n",
    "bg = BrachioGraph(turtle=True)\n",
    "bg.status()\n",
    "\n"
   ]
  },
  {
   "cell_type": "code",
   "execution_count": null,
   "metadata": {},
   "outputs": [],
   "source": [
    "bg.box(bounds=[-3, 6, 3, 12])"
   ]
  }
 ],
 "metadata": {
  "kernelspec": {
   "display_name": "Python 3",
   "language": "python",
   "name": "python3"
  },
  "language_info": {
   "codemirror_mode": {
    "name": "ipython",
    "version": 3
   },
   "file_extension": ".py",
   "mimetype": "text/x-python",
   "name": "python",
   "nbconvert_exporter": "python",
   "pygments_lexer": "ipython3",
   "version": "3.7.9"
  }
 },
 "nbformat": 4,
 "nbformat_minor": 4
}
